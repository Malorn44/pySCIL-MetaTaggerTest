{
 "cells": [
  {
   "cell_type": "code",
   "execution_count": 1,
   "id": "8c35d533",
   "metadata": {},
   "outputs": [],
   "source": [
    "import json\n",
    "from os import listdir\n",
    "from os.path import isfile, join\n",
    "\n",
    "files = [f for f in listdir('/home/max/Desktop/pySCIL-MetaTaggerTrain/dialogues') if isfile(join('/home/max/Desktop/pySCIL-MetaTaggerTrain/dialogues', f))]"
   ]
  },
  {
   "cell_type": "code",
   "execution_count": 2,
   "id": "bca9b5f7",
   "metadata": {},
   "outputs": [
    {
     "name": "stdout",
     "output_type": "stream",
     "text": [
      "[804, 434, 547, 947, 451, 480, 943, 595, 283, 883, 595, 946, 679]\n",
      "Average turns: 660.5384615384615\n",
      "Total turns: 8587\n"
     ]
    }
   ],
   "source": [
    "turnlens = []\n",
    "for f in files:\n",
    "    with open('dialogues/'+f) as handle:\n",
    "        data = json.load(handle)\n",
    "        turnlens.append(len(data['turns']))\n",
    "\n",
    "print(turnlens)\n",
    "print('Average turns:', sum(turnlens)/(len(turnlens)))\n",
    "print('Total turns:', sum(turnlens))"
   ]
  },
  {
   "cell_type": "code",
   "execution_count": 3,
   "id": "fa79961e",
   "metadata": {},
   "outputs": [],
   "source": [
    "# Combine all turns into one long list\n",
    "allTurns = []\n",
    "for f in files:\n",
    "    with open('dialogues/'+f) as handle:\n",
    "        data = json.load(handle)\n",
    "        for turn in data['turns']:\n",
    "            allTurns.append(turn)"
   ]
  },
  {
   "cell_type": "code",
   "execution_count": 4,
   "id": "7ec4ab1e",
   "metadata": {},
   "outputs": [
    {
     "name": "stdout",
     "output_type": "stream",
     "text": [
      "7834\n",
      "7834\n"
     ]
    }
   ],
   "source": [
    "# Create docs\n",
    "docs = [[turn['text'],turn['dialog_act'].split(':')[0].lower()] for turn in allTurns if turn['dialog_act'] != '']\n",
    "print(len(docs))\n",
    "print(852+1265+299+5418)"
   ]
  },
  {
   "cell_type": "code",
   "execution_count": 5,
   "id": "8cc530d0",
   "metadata": {},
   "outputs": [
    {
     "data": {
      "text/html": [
       "<div>\n",
       "<style scoped>\n",
       "    .dataframe tbody tr th:only-of-type {\n",
       "        vertical-align: middle;\n",
       "    }\n",
       "\n",
       "    .dataframe tbody tr th {\n",
       "        vertical-align: top;\n",
       "    }\n",
       "\n",
       "    .dataframe thead th {\n",
       "        text-align: right;\n",
       "    }\n",
       "</style>\n",
       "<table border=\"1\" class=\"dataframe\">\n",
       "  <thead>\n",
       "    <tr style=\"text-align: right;\">\n",
       "      <th></th>\n",
       "      <th>Text</th>\n",
       "      <th>Meta</th>\n",
       "      <th>label</th>\n",
       "    </tr>\n",
       "  </thead>\n",
       "  <tbody>\n",
       "    <tr>\n",
       "      <th>0</th>\n",
       "      <td>thanks .</td>\n",
       "      <td>comm-mgmt</td>\n",
       "      <td>0</td>\n",
       "    </tr>\n",
       "    <tr>\n",
       "      <th>1</th>\n",
       "      <td>a , and meg has been ( ? ? ? ) to be our leade...</td>\n",
       "      <td>prcs-mgmt</td>\n",
       "      <td>1</td>\n",
       "    </tr>\n",
       "    <tr>\n",
       "      <th>2</th>\n",
       "      <td>do you have extra pens ?</td>\n",
       "      <td>task</td>\n",
       "      <td>2</td>\n",
       "    </tr>\n",
       "    <tr>\n",
       "      <th>3</th>\n",
       "      <td>these do n't work .</td>\n",
       "      <td>task</td>\n",
       "      <td>2</td>\n",
       "    </tr>\n",
       "    <tr>\n",
       "      <th>4</th>\n",
       "      <td>yeah . no .</td>\n",
       "      <td>task</td>\n",
       "      <td>2</td>\n",
       "    </tr>\n",
       "  </tbody>\n",
       "</table>\n",
       "</div>"
      ],
      "text/plain": [
       "                                                Text       Meta  label\n",
       "0                                           thanks .  comm-mgmt      0\n",
       "1  a , and meg has been ( ? ? ? ) to be our leade...  prcs-mgmt      1\n",
       "2                           do you have extra pens ?       task      2\n",
       "3                                these do n't work .       task      2\n",
       "4                                        yeah . no .       task      2"
      ]
     },
     "execution_count": 5,
     "metadata": {},
     "output_type": "execute_result"
    }
   ],
   "source": [
    "# Create data frame\n",
    "import pandas as pd\n",
    "\n",
    "df = pd.DataFrame(docs, columns = ['Text','Meta'])\n",
    "df['label'] = df['Meta'].factorize()[0]\n",
    "labels_df = df[['Meta','label']].drop_duplicates().sort_values('label')\n",
    "labels_to_id = dict(labels_df.values)\n",
    "id_to_labels = dict(labels_df[['label','Meta']].values)\n",
    "df.head()"
   ]
  },
  {
   "cell_type": "code",
   "execution_count": 6,
   "id": "ec7255a0",
   "metadata": {},
   "outputs": [
    {
     "data": {
      "image/png": "[encoded data removed]",
      "text/plain": [
       "<Figure size 288x432 with 1 Axes>"
      ]
     },
     "metadata": {
      "needs_background": "light"
     },
     "output_type": "display_data"
    }
   ],
   "source": [
    "# get chart of imbalances\n",
    "import matplotlib.pyplot as plt\n",
    "fig = plt.figure(figsize=(4,6))\n",
    "df.groupby('Meta').Text.count().plot.bar(ylim=0)\n",
    "plt.show()"
   ]
  },
  {
   "cell_type": "code",
   "execution_count": 8,
   "id": "e55ae74e",
   "metadata": {},
   "outputs": [
    {
     "data": {
      "text/plain": [
       "(7834, 26761)"
      ]
     },
     "execution_count": 8,
     "metadata": {},
     "output_type": "execute_result"
    }
   ],
   "source": [
    "# Vectorize each sentence using sklearn TfidfVectorizer\n",
    "from sklearn.feature_extraction.text import TfidfVectorizer\n",
    "\n",
    "# setting up counter vectorizer settings\n",
    "tfidf_vectorizer = TfidfVectorizer(sublinear_tf=True, norm='l2', ngram_range=(1,2))\n",
    "\n",
    "# applying the vectorizer\n",
    "features = tfidf_vectorizer.fit_transform(df.Text).toarray()\n",
    "labels = df.label\n",
    "features.shape"
   ]
  },
  {
   "cell_type": "code",
   "execution_count": 14,
   "id": "3ba0c2ec",
   "metadata": {},
   "outputs": [
    {
     "name": "stdout",
     "output_type": "stream",
     "text": [
      "# 'comm-mgmt':\n",
      ">>Most correlated unigrams:\n",
      ". lol\n",
      ". hi\n",
      ">>Most correlated bigrams:\n",
      ". thank you\n",
      ". good night\n",
      "# 'prcs-mgmt':\n",
      ">>Most correlated unigrams:\n",
      ". we\n",
      ". prize\n",
      ">>Most correlated bigrams:\n",
      ". peace prize\n",
      ". do we\n",
      "# 'task':\n",
      ">>Most correlated unigrams:\n",
      ". yeah\n",
      ". hi\n",
      ">>Most correlated bigrams:\n",
      ". thank you\n",
      ". good night\n",
      "# 'task-mgmt':\n",
      ">>Most correlated unigrams:\n",
      ". carla\n",
      ". richard\n",
      ">>Most correlated bigrams:\n",
      ". so carla\n",
      ". for richard\n"
     ]
    }
   ],
   "source": [
    "# Find the terms most correlated with each meta tag\n",
    "from sklearn.feature_selection import chi2\n",
    "import numpy as np\n",
    "\n",
    "N = 2\n",
    "for Meta, label in sorted(labels_to_id.items()):\n",
    "    features_chi2 = chi2(features, labels == label)\n",
    "    indices = np.argsort(features_chi2[0])\n",
    "    feature_names = np.array(tfidf_vectorizer.get_feature_names())[indices]\n",
    "    unigrams = [v for v in feature_names if len(v.split(' ')) == 1]\n",
    "    bigrams = [v for v in feature_names if len(v.split(' ')) == 2]\n",
    "    print(\"# '{}':\".format(Meta))\n",
    "    print(\">>Most correlated unigrams:\\n. {}\".format('\\n. '.join(unigrams[-N:])))\n",
    "    print(\">>Most correlated bigrams:\\n. {}\".format('\\n. '.join(bigrams[-N:])))"
   ]
  },
  {
   "cell_type": "code",
   "execution_count": null,
   "id": "d8807f63",
   "metadata": {},
   "outputs": [],
   "source": [
    "#test models\n",
    "from sklearn.linear_model import LogisticRegression\n",
    "from sklearn.ensemble import RandomForestClassifier\n",
    "from sklearn.svm import LinearSVC\n",
    "from sklearn.naive_bayes import MultinomialNB\n",
    "\n",
    "from sklearn.model_selection import cross_val_score\n",
    "\n",
    "models = [\n",
    "    RandomForestClassifier(n_estimators=200,max_depth=3,random_state=42),\n",
    "    LinearSVC(),\n",
    "    MultinomialNB(),\n",
    "    LogisticRegression(random_state=42),\n",
    "]\n",
    "CV = 5\n",
    "cv_df = pd.DataFrame(index=range(CV*len(models)))\n",
    "entries = []\n",
    "for model in models:\n",
    "    model_name = model.__class__.__name__\n",
    "    accuracies = cross_val_score(model, features, labels, scoring='accuracy',cv=CV)\n",
    "    for fold_idx, accuracy in enumerate(accuracies):\n",
    "        entries.append((model_name, fold_idx, accuracy))\n",
    "cv_df = pd.DataFrame(entries, columns=['model_name', 'fold_idx', 'accuracy'])"
   ]
  }
 ],
 "metadata": {
  "kernelspec": {
   "display_name": "env",
   "language": "python",
   "name": "env"
  },
  "language_info": {
   "codemirror_mode": {
    "name": "ipython",
    "version": 3
   },
   "file_extension": ".py",
   "mimetype": "text/x-python",
   "name": "python",
   "nbconvert_exporter": "python",
   "pygments_lexer": "ipython3",
   "version": "3.8.10"
  }
 },
 "nbformat": 4,
 "nbformat_minor": 5
}
