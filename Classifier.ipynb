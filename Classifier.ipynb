{
 "cells": [
  {
   "cell_type": "code",
   "execution_count": 19,
   "id": "07544bcc",
   "metadata": {},
   "outputs": [],
   "source": [
    "import json\n",
    "from os import listdir\n",
    "from os.path import isfile, join\n",
    "\n",
    "files = [f for f in listdir('/home/max/Desktop/pySCIL-MetaTaggerTrain/dialogues') if isfile(join('/home/max/Desktop/pySCIL-MetaTaggerTrain/dialogues', f))]"
   ]
  },
  {
   "cell_type": "code",
   "execution_count": 20,
   "id": "9e4527de",
   "metadata": {},
   "outputs": [
    {
     "name": "stdout",
     "output_type": "stream",
     "text": [
      "[804, 434, 547, 947, 451, 480, 943, 595, 283, 883, 595, 946, 679]\n",
      "Average turns: 660.5384615384615\n",
      "Total turns: 8587\n"
     ]
    }
   ],
   "source": [
    "turnlens = []\n",
    "for f in files:\n",
    "    with open('dialogues/'+f) as handle:\n",
    "        data = json.load(handle)\n",
    "        turnlens.append(len(data['turns']))\n",
    "\n",
    "print(turnlens)\n",
    "print('Average turns:', sum(turnlens)/(len(turnlens)))\n",
    "print('Total turns:', sum(turnlens))"
   ]
  },
  {
   "cell_type": "code",
   "execution_count": 21,
   "id": "5ea55c05",
   "metadata": {},
   "outputs": [],
   "source": [
    "# Combine all turns into one long list\n",
    "allTurns = []\n",
    "for f in files:\n",
    "    with open('dialogues/'+f) as handle:\n",
    "        data = json.load(handle)\n",
    "        for turn in data['turns']:\n",
    "            allTurns.append(turn)"
   ]
  },
  {
   "cell_type": "code",
   "execution_count": 22,
   "id": "880e7668",
   "metadata": {},
   "outputs": [
    {
     "name": "stdout",
     "output_type": "stream",
     "text": [
      "7834\n",
      "7834\n"
     ]
    }
   ],
   "source": [
    "# Create docs\n",
    "docs = [[turn['text'],turn['dialog_act'].split(':')[0].lower()] for turn in allTurns if turn['dialog_act'] != '']\n",
    "print(len(docs))\n",
    "print(852+1265+299+5418)"
   ]
  },
  {
   "cell_type": "code",
   "execution_count": 23,
   "id": "9f4343d2",
   "metadata": {},
   "outputs": [
    {
     "data": {
      "text/html": [
       "<div>\n",
       "<style scoped>\n",
       "    .dataframe tbody tr th:only-of-type {\n",
       "        vertical-align: middle;\n",
       "    }\n",
       "\n",
       "    .dataframe tbody tr th {\n",
       "        vertical-align: top;\n",
       "    }\n",
       "\n",
       "    .dataframe thead th {\n",
       "        text-align: right;\n",
       "    }\n",
       "</style>\n",
       "<table border=\"1\" class=\"dataframe\">\n",
       "  <thead>\n",
       "    <tr style=\"text-align: right;\">\n",
       "      <th></th>\n",
       "      <th>Text</th>\n",
       "      <th>Meta</th>\n",
       "      <th>label</th>\n",
       "    </tr>\n",
       "  </thead>\n",
       "  <tbody>\n",
       "    <tr>\n",
       "      <th>0</th>\n",
       "      <td>thanks .</td>\n",
       "      <td>comm-mgmt</td>\n",
       "      <td>0</td>\n",
       "    </tr>\n",
       "    <tr>\n",
       "      <th>1</th>\n",
       "      <td>a , and meg has been ( ? ? ? ) to be our leade...</td>\n",
       "      <td>prcs-mgmt</td>\n",
       "      <td>1</td>\n",
       "    </tr>\n",
       "    <tr>\n",
       "      <th>2</th>\n",
       "      <td>do you have extra pens ?</td>\n",
       "      <td>task</td>\n",
       "      <td>2</td>\n",
       "    </tr>\n",
       "    <tr>\n",
       "      <th>3</th>\n",
       "      <td>these do n't work .</td>\n",
       "      <td>task</td>\n",
       "      <td>2</td>\n",
       "    </tr>\n",
       "    <tr>\n",
       "      <th>4</th>\n",
       "      <td>yeah . no .</td>\n",
       "      <td>task</td>\n",
       "      <td>2</td>\n",
       "    </tr>\n",
       "  </tbody>\n",
       "</table>\n",
       "</div>"
      ],
      "text/plain": [
       "                                                Text       Meta  label\n",
       "0                                           thanks .  comm-mgmt      0\n",
       "1  a , and meg has been ( ? ? ? ) to be our leade...  prcs-mgmt      1\n",
       "2                           do you have extra pens ?       task      2\n",
       "3                                these do n't work .       task      2\n",
       "4                                        yeah . no .       task      2"
      ]
     },
     "execution_count": 23,
     "metadata": {},
     "output_type": "execute_result"
    }
   ],
   "source": [
    "# Create data frame\n",
    "import pandas as pd\n",
    "\n",
    "df = pd.DataFrame(docs, columns = ['Text','Meta'])\n",
    "df['label'] = df['Meta'].factorize()[0]\n",
    "labels_df = df[['Meta','label']].drop_duplicates().sort_values('label')\n",
    "labels_to_id = dict(labels_df.values)\n",
    "id_to_labels = dict(labels_df[['label','Meta']].values)\n",
    "df.head()"
   ]
  },
  {
   "cell_type": "code",
   "execution_count": 24,
   "id": "fbba6ae1",
   "metadata": {},
   "outputs": [
    {
     "data": {
      "image/png": "[encoded data removed]",
      "text/plain": [
       "<Figure size 288x432 with 1 Axes>"
      ]
     },
     "metadata": {
      "needs_background": "light"
     },
     "output_type": "display_data"
    }
   ],
   "source": [
    "# get chart of imbalances\n",
    "import matplotlib.pyplot as plt\n",
    "fig = plt.figure(figsize=(4,6))\n",
    "df.groupby('Meta').Text.count().plot.bar(ylim=0)\n",
    "plt.show()"
   ]
  },
  {
   "cell_type": "code",
   "execution_count": 33,
   "id": "bc0dca21",
   "metadata": {},
   "outputs": [
    {
     "data": {
      "text/plain": [
       "(7834, 12666)"
      ]
     },
     "execution_count": 33,
     "metadata": {},
     "output_type": "execute_result"
    }
   ],
   "source": [
    "# Vectorize each sentence using sklearn TfidfVectorizer\n",
    "from sklearn.feature_extraction.text import TfidfVectorizer\n",
    "\n",
    "# setting up counter vectorizer settings\n",
    "tfidf_vectorizer = TfidfVectorizer(sublinear_tf=True, norm='l2', min_df=2, ngram_range=(1,2))\n",
    "\n",
    "# applying the vectorizer\n",
    "features = tfidf_vectorizer.fit_transform(df.Text).toarray()\n",
    "labels = df.label\n",
    "features.shape"
   ]
  },
  {
   "cell_type": "code",
   "execution_count": 34,
   "id": "ae644ffb",
   "metadata": {},
   "outputs": [
    {
     "name": "stdout",
     "output_type": "stream",
     "text": [
      "# 'comm-mgmt':\n",
      ">>Most correlated unigrams:\n",
      ". lol\n",
      ". hi\n",
      ">>Most correlated bigrams:\n",
      ". thank you\n",
      ". good night\n",
      "# 'prcs-mgmt':\n",
      ">>Most correlated unigrams:\n",
      ". we\n",
      ". prize\n",
      ">>Most correlated bigrams:\n",
      ". peace prize\n",
      ". do we\n",
      "# 'task':\n",
      ">>Most correlated unigrams:\n",
      ". yeah\n",
      ". hi\n",
      ">>Most correlated bigrams:\n",
      ". thank you\n",
      ". good night\n",
      "# 'task-mgmt':\n",
      ">>Most correlated unigrams:\n",
      ". carla\n",
      ". richard\n",
      ">>Most correlated bigrams:\n",
      ". so carla\n",
      ". for richard\n"
     ]
    }
   ],
   "source": [
    "# Find the terms most correlated with each meta tag\n",
    "from sklearn.feature_selection import chi2\n",
    "import numpy as np\n",
    "\n",
    "N = 2\n",
    "for Meta, label in sorted(labels_to_id.items()):\n",
    "    features_chi2 = chi2(features, labels == label)\n",
    "    indices = np.argsort(features_chi2[0])\n",
    "    feature_names = np.array(tfidf_vectorizer.get_feature_names())[indices]\n",
    "    unigrams = [v for v in feature_names if len(v.split(' ')) == 1]\n",
    "    bigrams = [v for v in feature_names if len(v.split(' ')) == 2]\n",
    "    print(\"# '{}':\".format(Meta))\n",
    "    print(\">>Most correlated unigrams:\\n. {}\".format('\\n. '.join(unigrams[-N:])))\n",
    "    print(\">>Most correlated bigrams:\\n. {}\".format('\\n. '.join(bigrams[-N:])))"
   ]
  },
  {
   "cell_type": "code",
   "execution_count": 35,
   "id": "bd5dc9cc",
   "metadata": {},
   "outputs": [
    {
     "data": {
      "text/plain": [
       "0.7182235834609495"
      ]
     },
     "execution_count": 35,
     "metadata": {},
     "output_type": "execute_result"
    }
   ],
   "source": [
    "# Try on Naive Bayes\n",
    "from sklearn.model_selection import train_test_split\n",
    "from sklearn.naive_bayes import MultinomialNB\n",
    "\n",
    "X_train, X_test, y_train, y_test = train_test_split(df['Text'], df['Meta'], random_state=42)\n",
    "X_train_tfidf = tfidf_vectorizer.fit_transform(X_train)\n",
    "\n",
    "clf = MultinomialNB().fit(X_train_tfidf, y_train)\n",
    "\n",
    "X_test_tfidf = tfidf_vectorizer.transform(X_test)\n",
    "predicted = clf.predict(X_test_tfidf)\n",
    "np.mean(predicted == y_test)"
   ]
  },
  {
   "cell_type": "code",
   "execution_count": 47,
   "id": "85287075",
   "metadata": {},
   "outputs": [],
   "source": [
    "#test models\n",
    "from sklearn.linear_model import LogisticRegression\n",
    "from sklearn.ensemble import RandomForestClassifier\n",
    "from sklearn.svm import LinearSVC\n",
    "from sklearn.naive_bayes import MultinomialNB\n",
    "\n",
    "from sklearn.model_selection import cross_val_score\n",
    "\n",
    "models = [\n",
    "    RandomForestClassifier(n_estimators=200,max_depth=3,random_state=42),\n",
    "    LinearSVC(),\n",
    "    MultinomialNB(),\n",
    "    LogisticRegression(random_state=42),\n",
    "]\n",
    "CV = 5\n",
    "cv_df = pd.DataFrame(index=range(CV*len(models)))\n",
    "entries = []\n",
    "for model in models:\n",
    "    model_name = model.__class__.__name__\n",
    "    accuracies = cross_val_score(model, X_train_tfidf, y_train, scoring='accuracy',cv=CV)\n",
    "    for fold_idx, accuracy in enumerate(accuracies):\n",
    "        entries.append((model_name, fold_idx, accuracy))\n",
    "cv_df = pd.DataFrame(entries, columns=['model_name', 'fold_idx', 'accuracy'])"
   ]
  },
  {
   "cell_type": "code",
   "execution_count": 48,
   "id": "60231f98",
   "metadata": {},
   "outputs": [
    {
     "data": {
      "image/png": "[encoded data removed]",
      "text/plain": [
       "<Figure size 432x288 with 1 Axes>"
      ]
     },
     "metadata": {
      "needs_background": "light"
     },
     "output_type": "display_data"
    }
   ],
   "source": [
    "# Plot the results\n",
    "import seaborn as sns\n",
    "sns.boxplot(x='model_name', y='accuracy', data=cv_df)\n",
    "sns.stripplot(x='model_name',y='accuracy', data=cv_df, size=8, jitter=True, edgecolor='gray',linewidth=2)\n",
    "plt.show()"
   ]
  },
  {
   "cell_type": "code",
   "execution_count": 49,
   "id": "d846ab00",
   "metadata": {},
   "outputs": [
    {
     "data": {
      "text/plain": [
       "model_name\n",
       "LinearSVC                 0.721191\n",
       "LogisticRegression        0.724936\n",
       "MultinomialNB             0.707404\n",
       "RandomForestClassifier    0.690723\n",
       "Name: accuracy, dtype: float64"
      ]
     },
     "execution_count": 49,
     "metadata": {},
     "output_type": "execute_result"
    }
   ],
   "source": [
    "cv_df.groupby('model_name').accuracy.mean()"
   ]
  },
  {
   "cell_type": "code",
   "execution_count": 51,
   "id": "1321b917",
   "metadata": {},
   "outputs": [
    {
     "data": {
      "image/png": "[encoded data removed]",
      "text/plain": [
       "<Figure size 720x720 with 2 Axes>"
      ]
     },
     "metadata": {
      "needs_background": "light"
     },
     "output_type": "display_data"
    }
   ],
   "source": [
    "# Continue evaluation with Linear SVC\n",
    "model = LinearSVC()\n",
    "X_train, X_test, y_train, y_test, indices_train, indices_test = train_test_split(features, labels, df.index, test_size=0.2, random_state=42)\n",
    "model.fit(X_train, y_train)\n",
    "y_pred = model.predict(X_test)\n",
    "\n",
    "from sklearn.metrics import confusion_matrix\n",
    "\n",
    "conf_mat = confusion_matrix(y_test, y_pred)\n",
    "fig, ax = plt.subplots(figsize=(10,10))\n",
    "sns.heatmap(conf_mat, annot=True, fmt='d',\n",
    "            xticklabels=labels_df.Meta.values, yticklabels=labels_df.Meta.values)\n",
    "plt.ylabel('Actual')\n",
    "plt.xlabel('Predicted')\n",
    "plt.show()"
   ]
  },
  {
   "cell_type": "code",
   "execution_count": 53,
   "id": "0b305fbf",
   "metadata": {},
   "outputs": [
    {
     "name": "stdout",
     "output_type": "stream",
     "text": [
      "              precision    recall  f1-score   support\n",
      "\n",
      "   comm-mgmt       0.76      0.55      0.64       187\n",
      "   prcs-mgmt       0.36      0.20      0.26       249\n",
      "        task       0.76      0.90      0.83      1077\n",
      "   task-mgmt       0.88      0.28      0.42        54\n",
      "\n",
      "    accuracy                           0.73      1567\n",
      "   macro avg       0.69      0.48      0.54      1567\n",
      "weighted avg       0.70      0.73      0.70      1567\n",
      "\n"
     ]
    }
   ],
   "source": [
    "# print classification report for each class\n",
    "from sklearn import metrics\n",
    "print(metrics.classification_report(y_test, y_pred, target_names=df['Meta'].unique()))"
   ]
  },
  {
   "cell_type": "code",
   "execution_count": null,
   "id": "e11e3ded",
   "metadata": {},
   "outputs": [],
   "source": []
  }
 ],
 "metadata": {
  "kernelspec": {
   "display_name": "env",
   "language": "python",
   "name": "env"
  },
  "language_info": {
   "codemirror_mode": {
    "name": "ipython",
    "version": 3
   },
   "file_extension": ".py",
   "mimetype": "text/x-python",
   "name": "python",
   "nbconvert_exporter": "python",
   "pygments_lexer": "ipython3",
   "version": "3.8.10"
  }
 },
 "nbformat": 4,
 "nbformat_minor": 5
}
